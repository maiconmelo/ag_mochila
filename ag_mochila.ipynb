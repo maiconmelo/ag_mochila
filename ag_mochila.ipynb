{
  "nbformat": 4,
  "nbformat_minor": 0,
  "metadata": {
    "colab": {
      "name": "ag_mochila.ipynb",
      "provenance": [],
      "collapsed_sections": []
    },
    "kernelspec": {
      "name": "python3",
      "display_name": "Python 3"
    }
  },
  "cells": [
    {
      "cell_type": "markdown",
      "metadata": {
        "id": "i4tCp_92t608"
      },
      "source": [
        "# Algoritmo Genético para o Problema da Mochila\n",
        "Autor: Prof. Maicon Melo Alves, Dsc. (YDUQS - Wyden)\n",
        "\n",
        "Esse algoritmo foi criado com a intenção de fornecer um conteúdo prático para o estudo de um algoritmo genético. É, portanto, uma versão eminentemente didática. \n",
        "\n",
        "Esse código pode ser aberto no Jupyter Notebook ou no Google Colab. \n",
        "\n",
        "As instâncias para o problema da mochila foram obtidas desse site: http://artemisa.unicauca.edu.co/~johnyortega/instances_01_KP/"
      ]
    },
    {
      "cell_type": "markdown",
      "metadata": {
        "id": "_nSuxqfixQd2"
      },
      "source": [
        "### Importação de bibliotecas"
      ]
    },
    {
      "cell_type": "code",
      "metadata": {
        "id": "25KMP7VLtmle"
      },
      "source": [
        "import random\n",
        "import numpy as np\n",
        "from operator import itemgetter"
      ],
      "execution_count": null,
      "outputs": []
    },
    {
      "cell_type": "markdown",
      "metadata": {
        "id": "XW1HQND0-Z14"
      },
      "source": [
        "### Definição de funções utilizadas pelo programa"
      ]
    },
    {
      "cell_type": "markdown",
      "metadata": {
        "id": "sMIKH_iE-kn2"
      },
      "source": [
        "Função para realizar a leitura da instâcia do problema. "
      ]
    },
    {
      "cell_type": "code",
      "metadata": {
        "id": "JxBMICPZ-As9"
      },
      "source": [
        "def ler_instancia(arquivo):\n",
        "    with open(arquivo) as arq:\n",
        "        linhas = arq.readlines()\n",
        "        instancia = {}\n",
        "        instancia['numero_itens'] = int(linhas[0].split()[0])\n",
        "        instancia['capacidade'] = int(linhas[0].split()[1])\n",
        "        instancia['itens'] = []\n",
        "        \n",
        "        for linha in linhas[1:instancia['numero_itens']+1]:\n",
        "            item = {}\n",
        "            item['valor'] = int(linha.split()[0])\n",
        "            item['peso'] = int(linha.split()[1])\n",
        "            instancia['itens'].append(item)\n",
        "        \n",
        "    return instancia"
      ],
      "execution_count": null,
      "outputs": []
    },
    {
      "cell_type": "markdown",
      "metadata": {
        "id": "6Ksdx5613dYB"
      },
      "source": [
        "Função para realizar a etapa de selação dos indivíduos mais aptos da população"
      ]
    },
    {
      "cell_type": "code",
      "metadata": {
        "id": "noVzWKBc-sGt"
      },
      "source": [
        "def selecionar_individuos(populacao):\n",
        "    populacao_ordenada = sorted(populacao, key=itemgetter('aptidao'), reverse=True)\n",
        "    \n",
        "    return populacao_ordenada[:SELECIONADOS]\n"
      ],
      "execution_count": null,
      "outputs": []
    },
    {
      "cell_type": "markdown",
      "metadata": {
        "id": "6j-MKTfu3rT7"
      },
      "source": [
        "Função para criar um indivíduo e calcular o seu grau de aptidão"
      ]
    },
    {
      "cell_type": "code",
      "metadata": {
        "id": "r72rk9muGyAM"
      },
      "source": [
        "def criar_individuo(representacao, instancia):\n",
        "    individuo = {}\n",
        "    individuo['representacao'] = representacao\n",
        "    individuo['aptidao'] = grau_aptidao(individuo, instancia)\n",
        "    \n",
        "    return individuo\n"
      ],
      "execution_count": null,
      "outputs": []
    },
    {
      "cell_type": "markdown",
      "metadata": {
        "id": "bS2_67HH1hrW"
      },
      "source": [
        "Função para realizar a etapa de reprodução dos indivíduos mais aptos. "
      ]
    },
    {
      "cell_type": "code",
      "metadata": {
        "id": "hBixCsGwG6mj"
      },
      "source": [
        "def reproduzir(populacao, ponto_corte, instancia):\n",
        "    tamanho = int(len(populacao)/2)\n",
        "    for i in range(tamanho):\n",
        "        paiA = populacao[random.randint(0, tamanho - 1)]['representacao']\n",
        "        paiB = populacao[random.randint(0, tamanho - 1)]['representacao']\n",
        "        filhoA = paiA.copy()\n",
        "        filhoB = paiB.copy()\n",
        "        filhoA[ponto_corte:] = paiB[ponto_corte:]\n",
        "        filhoB[ponto_corte:] = paiA[ponto_corte:]\n",
        "        populacao.append(criar_individuo(filhoA, instancia))\n",
        "        populacao.append(criar_individuo(filhoB, instancia))\n",
        "    \n",
        "    return populacao\n"
      ],
      "execution_count": null,
      "outputs": []
    },
    {
      "cell_type": "markdown",
      "metadata": {
        "id": "K_QAWb4037Tv"
      },
      "source": [
        "Função para aplicar a mutação em um grupo de indivíduos da população."
      ]
    },
    {
      "cell_type": "code",
      "metadata": {
        "id": "jcKKUfsEG8HR"
      },
      "source": [
        "def aplicar_mutacao(populacao, instancia):\n",
        "    comprimento_cromossomo = instancia['numero_itens']\n",
        "    individuos_mutantes = random.sample(range(len(populacao) - 1), MUTANTES)\n",
        "    for individuo in individuos_mutantes:\n",
        "        gene = random.randint(0, comprimento_cromossomo - 1)\n",
        "        if populacao[individuo]['representacao'][gene] == 1: \n",
        "            populacao[individuo]['representacao'][gene] = 0\n",
        "        else:\n",
        "            populacao[individuo]['representacao'][gene] = 1\n",
        "        populacao[individuo]['aptidao'] = grau_aptidao(populacao[individuo], instancia)\n",
        "        \n",
        "    return populacao\n"
      ],
      "execution_count": null,
      "outputs": []
    },
    {
      "cell_type": "markdown",
      "metadata": {
        "id": "96huYatb1lU4"
      },
      "source": [
        "Função para gerar uma população aleatória de indivíduos"
      ]
    },
    {
      "cell_type": "code",
      "metadata": {
        "id": "jqA5qi06HIrt"
      },
      "source": [
        "def gerar_populacao_inicial_aleatoria(instancia, tamanho_populacao):\n",
        "    populacao = []\n",
        "    tamanho_cromossomo = instancia['numero_itens']\n",
        "    for _ in range(tamanho_populacao):\n",
        "        representacao_aleatoria = np.random.choice([0,1], tamanho_cromossomo, p=[0.9, 0.1])\n",
        "        individuo = criar_individuo(representacao_aleatoria, instancia)\n",
        "        populacao.append(individuo)\n",
        "    \n",
        "    return populacao\n"
      ],
      "execution_count": null,
      "outputs": []
    },
    {
      "cell_type": "markdown",
      "metadata": {
        "id": "QrLTtElc1sQM"
      },
      "source": [
        "Função para calcular o grau de aptidão de um indivíduo"
      ]
    },
    {
      "cell_type": "code",
      "metadata": {
        "id": "KL5cl8tZHM4w"
      },
      "source": [
        "def grau_aptidao(individuo, instancia):\n",
        "    grau = 0\n",
        "    for i, gene in enumerate(individuo['representacao']):\n",
        "        grau = grau + (gene * instancia['itens'][i]['valor'])   \n",
        "\n",
        "    return grau\n"
      ],
      "execution_count": null,
      "outputs": []
    },
    {
      "cell_type": "markdown",
      "metadata": {
        "id": "9SuBlUGQ1xkx"
      },
      "source": [
        "Função para avaliar se a solução atual é melhor do que a melhor solução obtida até o momento. "
      ]
    },
    {
      "cell_type": "code",
      "metadata": {
        "id": "eu-893usHRGk"
      },
      "source": [
        "def avaliar_solucao(solucao_otima, populacao, instancia):\n",
        "    solucao_atual = populacao[0]['aptidao']\n",
        "    viavel = solucao_viavel(populacao[0]['representacao'], instancia)\n",
        "    if solucao_atual > solucao_otima and viavel:\n",
        "        return solucao_atual\n",
        "    \n",
        "    return solucao_otima\n"
      ],
      "execution_count": null,
      "outputs": []
    },
    {
      "cell_type": "markdown",
      "metadata": {
        "id": "LkMVDfbF2Fas"
      },
      "source": [
        "Função para avaliar se uma solução é viável"
      ]
    },
    {
      "cell_type": "code",
      "metadata": {
        "id": "XjifJMBlHSq6"
      },
      "source": [
        "def solucao_viavel(individuo, instancia):\n",
        "    peso_total = 0\n",
        "    for i, gene in enumerate(individuo):\n",
        "        peso_total = peso_total + (gene * instancia['itens'][i]['peso'])   \n",
        "        if peso_total > instancia['capacidade']:\n",
        "            return False\n",
        "\n",
        "    return True\n"
      ],
      "execution_count": null,
      "outputs": []
    },
    {
      "cell_type": "markdown",
      "metadata": {
        "id": "xx87ry6d2Lz0"
      },
      "source": [
        "### Programa principal"
      ]
    },
    {
      "cell_type": "markdown",
      "metadata": {
        "id": "0DIecKfN2T6x"
      },
      "source": [
        "Definição de parâmetros para o algoritmo genético. Você pode variar esses parâmetros para poder entender melhor o comportamento do algoritmo. \n",
        "A variável \"NOME_INSTANCIA\" permite que você selecione a instância que deseja ser avaliada pelo algoritmo. "
      ]
    },
    {
      "cell_type": "code",
      "metadata": {
        "id": "AJ8R75OhHZ02"
      },
      "source": [
        "TAMANHO_POPULACAO = 10\n",
        "NUMERO_GERACOES = 10\n",
        "TAXA_SELECAO = 0.5\n",
        "TAXA_MUTACAO = 0.05\n",
        "NOME_INSTANCIA = \"f1_l-d_kp_10_269\""
      ],
      "execution_count": null,
      "outputs": []
    },
    {
      "cell_type": "markdown",
      "metadata": {
        "id": "C8hPwitX2Z2f"
      },
      "source": [
        "Constantes calculadas a partir dos parâmetros definidos anteriormente"
      ]
    },
    {
      "cell_type": "code",
      "metadata": {
        "id": "QstDmjEYHbEA"
      },
      "source": [
        "SELECIONADOS = int(TAMANHO_POPULACAO * TAXA_SELECAO)\n",
        "MUTANTES = int(TAMANHO_POPULACAO * TAXA_MUTACAO)"
      ],
      "execution_count": null,
      "outputs": []
    },
    {
      "cell_type": "markdown",
      "metadata": {
        "id": "9IjalHuD2mNw"
      },
      "source": [
        "Inicialização da variável \"solucao_otima\" com -1"
      ]
    },
    {
      "cell_type": "code",
      "metadata": {
        "id": "YyAbyDbz2lhp"
      },
      "source": [
        "solucao_otima = -1"
      ],
      "execution_count": null,
      "outputs": []
    },
    {
      "cell_type": "markdown",
      "metadata": {
        "id": "aa2dkn0n2uWs"
      },
      "source": [
        "Leitura da instância do problema"
      ]
    },
    {
      "cell_type": "code",
      "metadata": {
        "id": "zjKZMla32sf4",
        "outputId": "57d08596-6240-457a-919b-b7988d08d377",
        "colab": {
          "base_uri": "https://localhost:8080/",
          "height": 52
        }
      },
      "source": [
        "instancia = ler_instancia(NOME_INSTANCIA)\n",
        "print(f\"Capacidade máxima da mochila: {instancia['capacidade']}\")\n",
        "print(f\"Número de itens disponíveis: {instancia['numero_itens']}\")\n"
      ],
      "execution_count": null,
      "outputs": [
        {
          "output_type": "stream",
          "text": [
            "Capacidade máxima da mochila: 269\n",
            "Número de itens disponíveis: 10\n"
          ],
          "name": "stdout"
        }
      ]
    },
    {
      "cell_type": "markdown",
      "metadata": {
        "id": "_eagkGwu2xHl"
      },
      "source": [
        "Determinação do comprimento do cromossomo. Como estamos usando uma representação de bits, então cada posição do vetor é usada para representar se o item está ou não inserido na mochila. Portanto, o comprimento do cromossomo é exatamente igual a quantidade de itens disponíveis para serem colocados na mochila. "
      ]
    },
    {
      "cell_type": "code",
      "metadata": {
        "id": "k9Suqzk521WJ",
        "outputId": "d8ab950b-0d5d-480c-dc40-34663ec0fd2c",
        "colab": {
          "base_uri": "https://localhost:8080/",
          "height": 34
        }
      },
      "source": [
        "comprimento_cromossomo = instancia['numero_itens']\n"
      ],
      "execution_count": null,
      "outputs": [
        {
          "output_type": "execute_result",
          "data": {
            "text/plain": [
              "10"
            ]
          },
          "metadata": {
            "tags": []
          },
          "execution_count": 21
        }
      ]
    },
    {
      "cell_type": "markdown",
      "metadata": {
        "id": "DC4ZMQXZ29TL"
      },
      "source": [
        "Gerando população inicial"
      ]
    },
    {
      "cell_type": "code",
      "metadata": {
        "id": "YMs7UhAt3A2g"
      },
      "source": [
        "populacao = gerar_populacao_inicial_aleatoria(instancia, TAMANHO_POPULACAO)"
      ],
      "execution_count": null,
      "outputs": []
    },
    {
      "cell_type": "markdown",
      "metadata": {
        "id": "JKuMqS373ESy"
      },
      "source": [
        "Iniciando laço de repetição para evolução dos indivíduos. A quantidade de iterações desse laço é determinado pelo parâmetro \"NUMERO_GERACOES\" que foi definido anteriormente. "
      ]
    },
    {
      "cell_type": "code",
      "metadata": {
        "id": "pyqS2cNeHnBi",
        "outputId": "4dfb6cf7-9941-440b-b894-95d3b7eb4166",
        "colab": {
          "base_uri": "https://localhost:8080/",
          "height": 191
        }
      },
      "source": [
        "for geracao in range(NUMERO_GERACOES):\n",
        "  # Definição aleatória do ponto de corte para realizar a reprodução dos indivíduos.\n",
        "  ponto_corte = random.randint(0, comprimento_cromossomo - 1)\n",
        "\n",
        "  # Executa a selação dos indivíduos mais aptos.\n",
        "  individuos_selecionados = selecionar_individuos(populacao)\n",
        "\n",
        "  # Avalia se a melhor solução encontrada na geração atual é melhor do que a melhor solução encontrada até o momento. \n",
        "  solucao_otima = avaliar_solucao(solucao_otima, populacao, instancia)\n",
        "  print(f\"Geração {geracao+1} - Melhor solução: {solucao_otima}\")\n",
        "\n",
        "  # Executa a reprodução dos indivíduos.\n",
        "  populacao = reproduzir(individuos_selecionados, ponto_corte, instancia)\n",
        "\n",
        "  # Aplica uma mutação em alguns indivíduos da nova população. \n",
        "  populacao = aplicar_mutacao(populacao, instancia)\n"
      ],
      "execution_count": 28,
      "outputs": [
        {
          "output_type": "stream",
          "text": [
            "Geração 1 - Melhor solução: 116\n",
            "Geração 2 - Melhor solução: 116\n",
            "Geração 3 - Melhor solução: 116\n",
            "Geração 4 - Melhor solução: 116\n",
            "Geração 5 - Melhor solução: 116\n",
            "Geração 6 - Melhor solução: 116\n",
            "Geração 7 - Melhor solução: 116\n",
            "Geração 8 - Melhor solução: 116\n",
            "Geração 9 - Melhor solução: 116\n",
            "Geração 10 - Melhor solução: 116\n"
          ],
          "name": "stdout"
        }
      ]
    }
  ]
}